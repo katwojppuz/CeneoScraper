{
 "cells": [
  {
   "cell_type": "markdown",
   "metadata": {},
   "source": [
    "# Ceneo Scraper"
   ]
  },
  {
   "cell_type": "markdown",
   "metadata": {},
   "source": [
    "## Lista kroków \"manualnych\"\n",
    "\n",
    "1. Wejdź na stronę produktu / z opiniami o produkcie\n",
    "2. Dla każdej opinii na stronie\n",
    "    1. Skpiuj opinię\n",
    "    2. Wklej opinię do edytora tekstu\n",
    "3. Przejź do klejnej strony z opiami\n",
    "4. Powtarzaj kroki 2-3 dopóki są strony z opiniami  \n",
    "\n",
    "## Lista kroków scrapera\n",
    "\n",
    "1. Wysłanie żądania dostępu do zasobu - strona z opiniami o produkcie\n",
    "2. Wydobycie z kodu HTML fragmentów odpowiadających opiniom\n",
    "3. Dla każdej opinii na stronie\n",
    "    1. Wydobycie z kodu opini jej składowych do słownika\n",
    "    2. dodanie słownika reprezentującego pojedynczą opinię do listy\n",
    "4. "
   ]
  },
  {
   "cell_type": "markdown",
   "metadata": {},
   "source": [
    "## Struktura opini w serwisie Ceneo.pl\n",
    "\n",
    "|składowa|nazwa|selektor|\n",
    "|--------|-----|--------|\n",
    "|identyfikator opinii|opinion_id|[\"data-entry-id\"]|\n",
    "|autor|author|span.user-post__author-name|\n",
    "|rekomendacja|recommendation|span.user-post__author-recomendation > em|\n",
    "|liczba gwiazdek|stars|span.user-post__score-count|\n",
    "|treść opinii|content|div.user-post__text|\n",
    "|lista zalet|pros|div.review-feature__title--positives ~ div.review-feature__item|\n",
    "|lista wad|cons|div.review-feature__title--negatives ~ div.review-feature__item|\n",
    "|data wystawienia opinii|post_date|span.user-post__published > time:nth-child(1)[\"datetime\"]|\n",
    "|data zakupu produktu|purchase_date|span.user-post__published > time:nth-child(2)[\"datetime\"]|\n",
    "|ile osób uznało opinię za przydatną|useful|button.vote-yes > span|\n",
    "|ile osób uznało opinię za nieprzydatną|useless|button.vote-no > span|"
   ]
  },
  {
   "cell_type": "markdown",
   "metadata": {},
   "source": [
    "63717975\n",
    "124893467\n",
    "108481121\n",
    "114228736\n",
    "28020568"
   ]
  },
  {
   "cell_type": "markdown",
   "metadata": {},
   "source": [
    "1. Import bibliotek"
   ]
  },
  {
   "cell_type": "code",
   "execution_count": 8,
   "metadata": {},
   "outputs": [],
   "source": [
    "import os\n",
    "import json\n",
    "import requests\n",
    "from bs4 import BeautifulSoup"
   ]
  },
  {
   "cell_type": "markdown",
   "metadata": {},
   "source": [
    "2. Wysłanie żądania dostępu do zasobu (request)"
   ]
  },
  {
   "cell_type": "code",
   "execution_count": 2,
   "metadata": {},
   "outputs": [],
   "source": [
    "product_code = \"28020568\"\n",
    "url = f\"https://www.ceneo.pl/{product_code}#tab=reviews\"\n",
    "response = requests.get(url)"
   ]
  },
  {
   "cell_type": "markdown",
   "metadata": {},
   "source": [
    "3. Wydobycie z kodu HTML fragmentów odpowiadających opiniom"
   ]
  },
  {
   "cell_type": "code",
   "execution_count": 3,
   "metadata": {},
   "outputs": [],
   "source": [
    "page = BeautifulSoup(response.text, \"html.parser\")\n",
    "opinions = page.select(\"div.js_product-review\")\n"
   ]
  },
  {
   "cell_type": "markdown",
   "metadata": {},
   "source": [
    "4. Wydobycie z kodu opini jej składowych dla każdej opinii na stronie"
   ]
  },
  {
   "cell_type": "code",
   "execution_count": 9,
   "metadata": {},
   "outputs": [],
   "source": [
    "all_opinions = []\n",
    "for opinion in opinions:\n",
    "    single_opinion = {\n",
    "        'opinion_id': opinion[\"data-entry-id\"].strip(),\n",
    "        'author': opinion.select_one(\"span.user-post__author-name\").text.strip(),\n",
    "        'recommendation': opinion.select_one(\"span.user-post__author-recomendation > em\").text.strip(),\n",
    "        'stars': opinion.select_one(\"span.user-post__score-count\").text.strip(),\n",
    "        'content': opinion.select_one(\"div.user-post__text\").text.strip(),\n",
    "        'pros': [p.text.strip() for p in opinion.select(\"div.review-feature__title--positives ~ div.review-feature__item\")],\n",
    "        'cons': [c.text.strip() for c in opinion.select(\"div.review-feature__title--negatives ~ div.review-feature__item\")],\n",
    "        'post_date': opinion.select_one(\"span.user-post__published > time:nth-child(1)\")[\"datetime\"].strip(),\n",
    "        # 'purchase_date': opinion.select_one(\"span.user-post__published > time:nth-child(2)\")[\"datetime\"].strip(),\n",
    "        'useful': opinion.select_one(\"button.vote-yes > span\").text.strip(),\n",
    "        'useless': opinion.select_one(\"button.vote-no > span\").text.strip(),\n",
    "    }\n",
    "    all_opinions.append(single_opinion)\n",
    "    \n",
    "    "
   ]
  },
  {
   "cell_type": "markdown",
   "metadata": {},
   "source": [
    "5. Zapis opinii do pliku JSON"
   ]
  },
  {
   "cell_type": "code",
   "execution_count": 10,
   "metadata": {},
   "outputs": [],
   "source": [
    "if not os.path.exists(\"opinions\"):\n",
    "    os.mkdir(\"opinions\")\n",
    "jf = open(f\"opinions/{product_code}.json\", \"w\", encoding=\"UTF-8\")\n",
    "json.dump(all_opinions, jf, indent=4, ensure_ascii=False)\n",
    "jf.close()"
   ]
  }
 ],
 "metadata": {
  "kernelspec": {
   "display_name": ".venv",
   "language": "python",
   "name": "python3"
  },
  "language_info": {
   "codemirror_mode": {
    "name": "ipython",
    "version": 3
   },
   "file_extension": ".py",
   "mimetype": "text/x-python",
   "name": "python",
   "nbconvert_exporter": "python",
   "pygments_lexer": "ipython3",
   "version": "3.12.1"
  }
 },
 "nbformat": 4,
 "nbformat_minor": 2
}
